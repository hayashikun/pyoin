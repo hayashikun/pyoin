{
 "cells": [
  {
   "cell_type": "code",
   "execution_count": 1,
   "metadata": {},
   "outputs": [],
   "source": [
    "%matplotlib widget\n",
    "import sys\n",
    "\n",
    "sys.path.append(\"..\")\n",
    "\n",
    "import matplotlib.pyplot as plt\n",
    "import numpy as np\n",
    "from matplotlib.widgets import Slider\n",
    "from mpl_toolkits.mplot3d import Axes3D\n",
    "\n",
    "from app.face_mesh_landmark_parts_index import parts_index"
   ]
  },
  {
   "cell_type": "code",
   "execution_count": 2,
   "metadata": {},
   "outputs": [
    {
     "data": {
      "text/plain": [
       "(518, 468, 3)"
      ]
     },
     "execution_count": 2,
     "metadata": {},
     "output_type": "execute_result"
    }
   ],
   "source": [
    "direction = np.load(\"face_direction.npy\")\n",
    "direction = direction[:, 0, :, :]\n",
    "\n",
    "direction.shape"
   ]
  },
  {
   "cell_type": "code",
   "execution_count": 3,
   "metadata": {},
   "outputs": [
    {
     "data": {
      "application/vnd.jupyter.widget-view+json": {
       "model_id": "b851c11f20cd4f90aee19be38ddfada1",
       "version_major": 2,
       "version_minor": 0
      },
      "text/plain": [
       "Canvas(toolbar=Toolbar(toolitems=[('Home', 'Reset original view', 'home', 'home'), ('Back', 'Back to previous …"
      ]
     },
     "metadata": {},
     "output_type": "display_data"
    }
   ],
   "source": [
    "def plot_landmarks(landmarks):\n",
    "    landmarks = np.array([l - l.mean(axis=0) for l in landmarks])\n",
    "    fig = plt.figure(figsize=(6, 4))\n",
    "    gs = fig.add_gridspec(12, 1)\n",
    "    ax = fig.add_subplot(gs[:-2, :], projection=\"3d\")\n",
    "    ax_slider = fig.add_subplot(gs[-1, :])\n",
    "    slider = Slider(ax_slider, \"index\", 0, len(landmarks), valinit=0, valstep=1)\n",
    "\n",
    "    scatters = [ax.scatter3D(*landmarks[idx, :, :].T) for idx in range(len(landmarks))]\n",
    "    for s in scatters:\n",
    "        s.set_visible(False)\n",
    "\n",
    "    def update(v):\n",
    "        for s in [s for s in scatters if s.get_visible()]:\n",
    "            s.set_visible(False)\n",
    "        idx = int(slider.val)\n",
    "        scatters[idx].set_visible(True)\n",
    "\n",
    "    slider.on_changed(update)\n",
    "    update(None)\n",
    "\n",
    "    ax.set(\n",
    "        xlim=(-0.2, 0.2),\n",
    "        ylim=(-0.3, 0.3),\n",
    "        zlim=(-0.2, 0.2),\n",
    "        xlabel=\"x\",\n",
    "        ylabel=\"y\",\n",
    "        zlabel=\"z\",\n",
    "    )\n",
    "    ax.view_init(elev=95, azim=90)\n",
    "    fig.tight_layout()\n",
    "\n",
    "\n",
    "plot_landmarks(direction)"
   ]
  },
  {
   "cell_type": "code",
   "execution_count": 4,
   "metadata": {},
   "outputs": [
    {
     "data": {
      "application/vnd.jupyter.widget-view+json": {
       "model_id": "4a643bec53c84c0abb8c616bf43d7b24",
       "version_major": 2,
       "version_minor": 0
      },
      "text/plain": [
       "Canvas(toolbar=Toolbar(toolitems=[('Home', 'Reset original view', 'home', 'home'), ('Back', 'Back to previous …"
      ]
     },
     "metadata": {},
     "output_type": "display_data"
    }
   ],
   "source": [
    "def plot_bias(landmarks):\n",
    "    landmarks = np.array([l - l.mean(axis=0) for l in landmarks])\n",
    "    x_bias = [\n",
    "        np.count_nonzero(l[:, 0] < 0) / np.count_nonzero(l[:, 0] > 0) for l in landmarks\n",
    "    ]\n",
    "    y_bias = [\n",
    "        np.count_nonzero(l[:, 1] < 0) / np.count_nonzero(l[:, 1] > 0) for l in landmarks\n",
    "    ]\n",
    "\n",
    "    fig, ax1 = plt.subplots(figsize=(5, 2))\n",
    "    ax2 = ax1.twinx()\n",
    "    ax1.plot(x_bias, color=\"red\")\n",
    "    ax1.set_ylabel(\"x bias\", color=\"red\")\n",
    "    ax1.tick_params(axis=\"y\", colors=\"red\")\n",
    "    ax1.spines[ax1.yaxis.get_ticks_position()].set_color(\"red\")\n",
    "\n",
    "    ax2.plot(y_bias, color=\"blue\")\n",
    "    ax2.set_ylabel(\"y bias\", color=\"blue\")\n",
    "    ax2.tick_params(axis=\"y\", colors=\"blue\")\n",
    "    ax2.spines[ax2.yaxis.get_ticks_position()].set_color(\"blue\")\n",
    "    fig.tight_layout()\n",
    "\n",
    "plot_bias(direction)"
   ]
  },
  {
   "cell_type": "code",
   "execution_count": 5,
   "metadata": {},
   "outputs": [
    {
     "data": {
      "application/vnd.jupyter.widget-view+json": {
       "model_id": "d624e74147dc4880b920240ceafc203c",
       "version_major": 2,
       "version_minor": 0
      },
      "text/plain": [
       "Canvas(toolbar=Toolbar(toolitems=[('Home', 'Reset original view', 'home', 'home'), ('Back', 'Back to previous …"
      ]
     },
     "metadata": {},
     "output_type": "display_data"
    },
    {
     "data": {
      "application/vnd.jupyter.widget-view+json": {
       "model_id": "596381a36c1a4b639652753d1ebb447e",
       "version_major": 2,
       "version_minor": 0
      },
      "text/plain": [
       "Canvas(toolbar=Toolbar(toolitems=[('Home', 'Reset original view', 'home', 'home'), ('Back', 'Back to previous …"
      ]
     },
     "metadata": {},
     "output_type": "display_data"
    }
   ],
   "source": [
    "def plot_eye_lip_angle(landmarks):\n",
    "    landmarks = np.array([l - l.mean(axis=0) for l in landmarks])\n",
    "    left_eye = landmarks[:, parts_index[\"left_eye\"], :].mean(axis=1)\n",
    "    right_eye = landmarks[:, parts_index[\"right_eye\"], :].mean(axis=1)\n",
    "    xy_eye_slope = (right_eye[:, 1] - left_eye[:, 1]) / (\n",
    "        right_eye[:, 0] - left_eye[:, 0]\n",
    "    )\n",
    "    xz_eye_slope = (right_eye[:, 2] - left_eye[:, 2]) / (\n",
    "        right_eye[:, 0] - left_eye[:, 0]\n",
    "    )\n",
    "\n",
    "    fig, ax1 = plt.subplots(figsize=(5, 2))\n",
    "    ax2 = ax1.twinx()\n",
    "    ax1.plot(xy_eye_slope, color=\"red\")\n",
    "    ax1.set_ylabel(\"xy eye angle\", color=\"red\")\n",
    "    ax1.tick_params(axis=\"y\", colors=\"red\")\n",
    "    ax1.spines[ax1.yaxis.get_ticks_position()].set_color(\"red\")\n",
    "\n",
    "    ax2.plot(xz_eye_slope, color=\"blue\")\n",
    "    ax2.set_ylabel(\"xz eye angle\", color=\"blue\")\n",
    "    ax2.tick_params(axis=\"y\", colors=\"blue\")\n",
    "    ax2.spines[ax2.yaxis.get_ticks_position()].set_color(\"blue\")\n",
    "    fig.tight_layout()\n",
    "\n",
    "    eye_center = (left_eye + right_eye) / 2\n",
    "    upper_lip = landmarks[:, parts_index[\"upper_lip\"], :].mean(axis=1)\n",
    "    lower_lip = landmarks[:, parts_index[\"lower_lip\"], :].mean(axis=1)\n",
    "    lip_center = (upper_lip + lower_lip) / 2\n",
    "\n",
    "    yz_eye_lip_slope = (eye_center[:, 2] - lip_center[:, 2]) / (eye_center[:, 1] - lip_center[:, 1])\n",
    "    fig, ax = plt.subplots(figsize=(5, 2))\n",
    "    ax.plot(yz_eye_lip_slope - yz_eye_lip_slope[0])\n",
    "\n",
    "\n",
    "plot_eye_lip_angle(direction)"
   ]
  },
  {
   "cell_type": "code",
   "execution_count": null,
   "metadata": {},
   "outputs": [],
   "source": []
  }
 ],
 "metadata": {
  "kernelspec": {
   "display_name": "Python 3",
   "language": "python",
   "name": "python3"
  },
  "language_info": {
   "codemirror_mode": {
    "name": "ipython",
    "version": 3
   },
   "file_extension": ".py",
   "mimetype": "text/x-python",
   "name": "python",
   "nbconvert_exporter": "python",
   "pygments_lexer": "ipython3",
   "version": "3.8.0"
  }
 },
 "nbformat": 4,
 "nbformat_minor": 4
}
