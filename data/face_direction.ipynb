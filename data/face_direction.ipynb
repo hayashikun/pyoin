{
 "cells": [
  {
   "cell_type": "code",
   "execution_count": 1,
   "metadata": {},
   "outputs": [],
   "source": [
    "%matplotlib widget\n",
    "import matplotlib.pyplot as plt\n",
    "import numpy as np\n",
    "from matplotlib.widgets import Slider\n",
    "from mpl_toolkits.mplot3d import Axes3D"
   ]
  },
  {
   "cell_type": "code",
   "execution_count": 2,
   "metadata": {},
   "outputs": [
    {
     "data": {
      "text/plain": [
       "((725, 468, 3), (427, 468, 3))"
      ]
     },
     "execution_count": 2,
     "metadata": {},
     "output_type": "execute_result"
    }
   ],
   "source": [
    "direction = np.load(\"face_direction/direction.npy\")\n",
    "direction = direction[:, 0, :, :]\n",
    "\n",
    "shake = np.load(\"face_direction/shake.npy\")\n",
    "shake = shake[:, 0, :, :]\n",
    "\n",
    "direction.shape, shake.shape"
   ]
  },
  {
   "cell_type": "code",
   "execution_count": 3,
   "metadata": {},
   "outputs": [
    {
     "data": {
      "application/vnd.jupyter.widget-view+json": {
       "model_id": "92ba9f807f5a4011876770808a9b15f6",
       "version_major": 2,
       "version_minor": 0
      },
      "text/plain": [
       "Canvas(toolbar=Toolbar(toolitems=[('Home', 'Reset original view', 'home', 'home'), ('Back', 'Back to previous …"
      ]
     },
     "metadata": {},
     "output_type": "display_data"
    }
   ],
   "source": [
    "def plot_landmarks(landmarks):\n",
    "    landmarks = np.array([l - l.mean(axis=0) for l in landmarks])\n",
    "    fig = plt.figure(figsize=(6, 4))\n",
    "    gs = fig.add_gridspec(12, 1)\n",
    "    ax = fig.add_subplot(gs[:-2, :], projection=\"3d\")\n",
    "    ax_slider = fig.add_subplot(gs[-1, :])\n",
    "    slider = Slider(ax_slider, \"index\", 0, len(landmarks), valinit=0, valstep=1)\n",
    "\n",
    "    scatters = [ax.scatter3D(*landmarks[idx, :, :].T) for idx in range(len(landmarks))]\n",
    "    for s in scatters:\n",
    "        s.set_visible(False)\n",
    "\n",
    "    def update(v):\n",
    "        for s in [s for s in scatters if s.get_visible()]:\n",
    "            s.set_visible(False)\n",
    "        idx = int(slider.val)\n",
    "        scatters[idx].set_visible(True)\n",
    "\n",
    "    slider.on_changed(update)\n",
    "    update(None)\n",
    "\n",
    "    ax.set(xlim=(-0.2, 0.2), ylim=(-0.3, 0.3), zlim=(-0.2, 0.2), xlabel=\"x\", ylabel=\"y\", zlabel=\"z\")\n",
    "    ax.view_init(elev=95, azim=90)\n",
    "    fig.tight_layout()\n",
    "\n",
    "\n",
    "plot_landmarks(direction)"
   ]
  },
  {
   "cell_type": "code",
   "execution_count": 4,
   "metadata": {},
   "outputs": [
    {
     "data": {
      "application/vnd.jupyter.widget-view+json": {
       "model_id": "1659dfa11cbc456ab14656a169cc6fac",
       "version_major": 2,
       "version_minor": 0
      },
      "text/plain": [
       "Canvas(toolbar=Toolbar(toolitems=[('Home', 'Reset original view', 'home', 'home'), ('Back', 'Back to previous …"
      ]
     },
     "metadata": {},
     "output_type": "display_data"
    },
    {
     "data": {
      "application/vnd.jupyter.widget-view+json": {
       "model_id": "868e9278c16944c6b17801bb60ab9987",
       "version_major": 2,
       "version_minor": 0
      },
      "text/plain": [
       "Canvas(toolbar=Toolbar(toolitems=[('Home', 'Reset original view', 'home', 'home'), ('Back', 'Back to previous …"
      ]
     },
     "metadata": {},
     "output_type": "display_data"
    }
   ],
   "source": [
    "def plot_bias(landmarks):\n",
    "    landmarks = np.array([l - l.mean(axis=0) for l in landmarks])\n",
    "    x_bias = [np.count_nonzero(l[:, 0] < 0) / np.count_nonzero(l[:, 0] > 0) for l in landmarks]\n",
    "    y_bias = [np.count_nonzero(l[:, 1] < 0) / np.count_nonzero(l[:, 1] > 0) for l in landmarks]\n",
    "    \n",
    "    fig, (ax1, ax2) = plt.subplots(nrows=2, sharex=True)\n",
    "    ax1.plot(x_bias)\n",
    "    ax1.set(ylabel=\"x bias\")\n",
    "    ax2.plot(y_bias)\n",
    "    ax2.set(ylabel=\"y bias\")\n",
    "    \n",
    "plot_bias(direction)\n",
    "plot_bias(shake)"
   ]
  },
  {
   "cell_type": "code",
   "execution_count": null,
   "metadata": {},
   "outputs": [],
   "source": []
  }
 ],
 "metadata": {
  "kernelspec": {
   "display_name": "Python 3",
   "language": "python",
   "name": "python3"
  },
  "language_info": {
   "codemirror_mode": {
    "name": "ipython",
    "version": 3
   },
   "file_extension": ".py",
   "mimetype": "text/x-python",
   "name": "python",
   "nbconvert_exporter": "python",
   "pygments_lexer": "ipython3",
   "version": "3.8.0"
  }
 },
 "nbformat": 4,
 "nbformat_minor": 4
}
