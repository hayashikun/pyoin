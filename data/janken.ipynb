{
 "cells": [
  {
   "cell_type": "code",
   "execution_count": 1,
   "metadata": {},
   "outputs": [],
   "source": [
    "%matplotlib widget\n",
    "import matplotlib.pyplot as plt\n",
    "import numpy as np\n",
    "from matplotlib.widgets import Slider\n",
    "from mpl_toolkits.mplot3d import Axes3D\n",
    "import tensorflow as tf\n",
    "from sklearn.model_selection import train_test_split"
   ]
  },
  {
   "cell_type": "code",
   "execution_count": 2,
   "metadata": {},
   "outputs": [
    {
     "data": {
      "text/plain": [
       "((244, 21, 3), (338, 21, 3), (283, 21, 3))"
      ]
     },
     "execution_count": 2,
     "metadata": {},
     "output_type": "execute_result"
    }
   ],
   "source": [
    "rock = np.load(\"janken/rock.npy\")\n",
    "scissors = np.load(\"janken/scissors.npy\")\n",
    "paper = np.load(\"janken/paper.npy\")\n",
    "\n",
    "rock.shape, scissors.shape, paper.shape"
   ]
  },
  {
   "cell_type": "code",
   "execution_count": 3,
   "metadata": {},
   "outputs": [
    {
     "data": {
      "application/vnd.jupyter.widget-view+json": {
       "model_id": "128a4ead70964772af2f262b88e75c0b",
       "version_major": 2,
       "version_minor": 0
      },
      "text/plain": [
       "Canvas(toolbar=Toolbar(toolitems=[('Home', 'Reset original view', 'home', 'home'), ('Back', 'Back to previous …"
      ]
     },
     "metadata": {},
     "output_type": "display_data"
    }
   ],
   "source": [
    "def plot_landmarks(landmarks):\n",
    "    landmarks = np.array([l - l.mean(axis=0) for l in landmarks])\n",
    "    fig = plt.figure(figsize=(6, 4))\n",
    "    gs = fig.add_gridspec(12, 1)\n",
    "    ax = fig.add_subplot(gs[:-2, :], projection=\"3d\")\n",
    "    ax_slider = fig.add_subplot(gs[-1, :])\n",
    "    slider = Slider(ax_slider, \"index\", 0, len(landmarks), valinit=0, valstep=1)\n",
    "\n",
    "    scatters = [ax.scatter3D(*landmarks[idx, :, :].T) for idx in range(len(landmarks))]\n",
    "    for s in scatters:\n",
    "        s.set_visible(False)\n",
    "\n",
    "    def update(v):\n",
    "        for s in [s for s in scatters if s.get_visible()]:\n",
    "            s.set_visible(False)\n",
    "        idx = int(slider.val)\n",
    "        scatters[idx].set_visible(True)\n",
    "\n",
    "    slider.on_changed(update)\n",
    "    update(None)\n",
    "\n",
    "    ax.set(xlim=(-0.2, 0.2), ylim=(-0.4, 0.4), zlim=(0, 1), xlabel=\"x\", ylabel=\"y\", zlabel=\"z\")\n",
    "    ax.view_init(elev=95, azim=90)\n",
    "    fig.tight_layout()\n",
    "\n",
    "\n",
    "# plot_landmarks(rock)\n",
    "# plot_landmarks(paper)\n",
    "plot_landmarks(scissors)\n",
    "# plot_landmarks(nothing)"
   ]
  },
  {
   "cell_type": "code",
   "execution_count": 4,
   "metadata": {},
   "outputs": [
    {
     "data": {
      "text/plain": [
       "(1297, 21, 3)"
      ]
     },
     "execution_count": 4,
     "metadata": {},
     "output_type": "execute_result"
    }
   ],
   "source": [
    "hands = np.array([h - h.mean(axis=0) for h in np.concatenate([rock, scissors, paper])])\n",
    "hands = np.repeat(hands, 2, axis=0)\n",
    "hands[: hands.shape[0] // 2, 0] = -hands[: hands.shape[0] // 2, 0]\n",
    "\n",
    "labels = np.array([0] * len(rock) + [1] * len(scissors) + [2] * len(paper))\n",
    "labels = np.repeat(labels, 2, axis=0)\n",
    "\n",
    "hands_train, hands_test, labels_train, labels_test = train_test_split(hands, labels)\n",
    "\n",
    "hands_train.shape"
   ]
  },
  {
   "cell_type": "code",
   "execution_count": 5,
   "metadata": {},
   "outputs": [
    {
     "name": "stdout",
     "output_type": "stream",
     "text": [
      "14/14 [==============================] - 0s 657us/step - loss: 9.9387e-05 - accuracy: 1.0000\n"
     ]
    },
    {
     "data": {
      "text/plain": [
       "[9.938684524968266e-05, 1.0]"
      ]
     },
     "execution_count": 5,
     "metadata": {},
     "output_type": "execute_result"
    }
   ],
   "source": [
    "model = tf.keras.models.Sequential(\n",
    "    [\n",
    "        tf.keras.layers.Flatten(input_shape=(21, 3)),\n",
    "        tf.keras.layers.Dense(128, activation=\"relu\"),\n",
    "        tf.keras.layers.Dropout(0.2),\n",
    "        tf.keras.layers.Dense(3, activation=\"softmax\"),\n",
    "    ]\n",
    ")\n",
    "model.compile(\n",
    "    optimizer=\"adam\", loss=\"sparse_categorical_crossentropy\", metrics=[\"accuracy\"]\n",
    ")\n",
    "model.fit(hands_train, labels_train, epochs=100, verbose=0)\n",
    "model.evaluate(hands_test, labels_test)\n",
    "# model.save(\"janken_tf\")"
   ]
  },
  {
   "cell_type": "code",
   "execution_count": 6,
   "metadata": {},
   "outputs": [
    {
     "data": {
      "text/plain": [
       "array([[9.9986219e-01, 7.5805692e-06, 1.3021659e-04],\n",
       "       [9.9988067e-01, 7.0494070e-06, 1.1232400e-04],\n",
       "       [9.9994576e-01, 5.6556792e-06, 4.8591493e-05],\n",
       "       [9.9994338e-01, 5.0090939e-06, 5.1634815e-05],\n",
       "       [9.9992275e-01, 5.8962951e-06, 7.1400282e-05]], dtype=float32)"
      ]
     },
     "execution_count": 6,
     "metadata": {},
     "output_type": "execute_result"
    }
   ],
   "source": [
    "hands = np.array([h - h.mean(axis=0) for h in rock])\n",
    "\n",
    "model = tf.keras.models.load_model(\"janken_tf\")\n",
    "model.predict(hands[:5])"
   ]
  },
  {
   "cell_type": "code",
   "execution_count": 10,
   "metadata": {},
   "outputs": [
    {
     "data": {
      "text/plain": [
       "array([[[ 6.15e-01,  7.11e-01,  1.44e-05],\n",
       "        [ 5.52e-01,  6.83e-01, -1.13e-02],\n",
       "        [ 5.14e-01,  6.23e-01, -1.76e-02],\n",
       "        ...,\n",
       "        [ 6.04e-01,  4.85e-01,  1.03e-02],\n",
       "        [ 6.06e-01,  5.41e-01,  1.18e-02],\n",
       "        [ 6.12e-01,  5.69e-01,  2.42e-02]],\n",
       "\n",
       "       [[ 6.13e-01,  7.15e-01,  1.43e-05],\n",
       "        [ 5.51e-01,  6.85e-01, -9.32e-03],\n",
       "        [ 5.15e-01,  6.22e-01, -1.58e-02],\n",
       "        ...,\n",
       "        [ 6.07e-01,  4.91e-01,  1.73e-02],\n",
       "        [ 6.08e-01,  5.47e-01,  1.98e-02],\n",
       "        [ 6.15e-01,  5.75e-01,  3.20e-02]],\n",
       "\n",
       "       [[ 6.15e-01,  7.16e-01,  1.44e-05],\n",
       "        [ 5.54e-01,  6.88e-01, -1.10e-02],\n",
       "        [ 5.17e-01,  6.25e-01, -1.55e-02],\n",
       "        ...,\n",
       "        [ 6.08e-01,  4.93e-01,  2.53e-02],\n",
       "        [ 6.09e-01,  5.51e-01,  2.87e-02],\n",
       "        [ 6.17e-01,  5.77e-01,  4.49e-02]],\n",
       "\n",
       "       ...,\n",
       "\n",
       "       [[ 6.44e-01,  6.18e-01,  8.49e-06],\n",
       "        [ 6.07e-01,  5.95e-01, -1.26e-02],\n",
       "        [ 5.89e-01,  5.55e-01, -1.39e-02],\n",
       "        ...,\n",
       "        [ 6.55e-01,  4.74e-01,  3.27e-02],\n",
       "        [ 6.54e-01,  5.06e-01,  3.77e-02],\n",
       "        [ 6.51e-01,  5.26e-01,  5.14e-02]],\n",
       "\n",
       "       [[ 6.44e-01,  6.18e-01,  8.27e-06],\n",
       "        [ 6.08e-01,  5.98e-01, -1.66e-02],\n",
       "        [ 5.89e-01,  5.57e-01, -1.91e-02],\n",
       "        ...,\n",
       "        [ 6.56e-01,  4.76e-01,  3.15e-02],\n",
       "        [ 6.55e-01,  5.10e-01,  3.65e-02],\n",
       "        [ 6.52e-01,  5.28e-01,  5.23e-02]],\n",
       "\n",
       "       [[ 6.46e-01,  6.15e-01,  8.94e-06],\n",
       "        [ 6.10e-01,  5.94e-01, -1.21e-02],\n",
       "        [ 5.91e-01,  5.53e-01, -1.32e-02],\n",
       "        ...,\n",
       "        [ 6.56e-01,  4.74e-01,  2.87e-02],\n",
       "        [ 6.55e-01,  5.07e-01,  3.19e-02],\n",
       "        [ 6.53e-01,  5.26e-01,  4.48e-02]]])"
      ]
     },
     "execution_count": 10,
     "metadata": {},
     "output_type": "execute_result"
    }
   ],
   "source": [
    "np.set_printoptions(precision=2)\n",
    "rock"
   ]
  },
  {
   "cell_type": "code",
   "execution_count": null,
   "metadata": {},
   "outputs": [],
   "source": []
  }
 ],
 "metadata": {
  "kernelspec": {
   "display_name": "Python 3",
   "language": "python",
   "name": "python3"
  },
  "language_info": {
   "codemirror_mode": {
    "name": "ipython",
    "version": 3
   },
   "file_extension": ".py",
   "mimetype": "text/x-python",
   "name": "python",
   "nbconvert_exporter": "python",
   "pygments_lexer": "ipython3",
   "version": "3.8.0"
  }
 },
 "nbformat": 4,
 "nbformat_minor": 4
}
