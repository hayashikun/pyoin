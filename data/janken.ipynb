{
 "cells": [
  {
   "cell_type": "code",
   "execution_count": 1,
   "metadata": {},
   "outputs": [],
   "source": [
    "%matplotlib widget\n",
    "import matplotlib.pyplot as plt\n",
    "import numpy as np\n",
    "from matplotlib.widgets import Slider\n",
    "from mpl_toolkits.mplot3d import Axes3D\n",
    "import tensorflow as tf\n",
    "from sklearn.model_selection import train_test_split"
   ]
  },
  {
   "cell_type": "code",
   "execution_count": 2,
   "metadata": {},
   "outputs": [
    {
     "data": {
      "text/plain": [
       "((120, 21, 3), (141, 21, 3), (124, 21, 3), (66, 21, 3))"
      ]
     },
     "execution_count": 2,
     "metadata": {},
     "output_type": "execute_result"
    }
   ],
   "source": [
    "rock = np.load(\"janken/hand_rock.npy\")\n",
    "scissors = np.load(\"janken/hand_scissors.npy\")\n",
    "paper = np.load(\"janken/hand_paper.npy\")\n",
    "nothing = np.load(\"janken/hand_nothing.npy\")\n",
    "\n",
    "rock.shape, scissors.shape, paper.shape, nothing.shape"
   ]
  },
  {
   "cell_type": "code",
   "execution_count": 3,
   "metadata": {},
   "outputs": [
    {
     "data": {
      "application/vnd.jupyter.widget-view+json": {
       "model_id": "f59c81c1dfa04b0d98a0093e20b1949c",
       "version_major": 2,
       "version_minor": 0
      },
      "text/plain": [
       "Canvas(toolbar=Toolbar(toolitems=[('Home', 'Reset original view', 'home', 'home'), ('Back', 'Back to previous …"
      ]
     },
     "metadata": {},
     "output_type": "display_data"
    }
   ],
   "source": [
    "def plot_landmarks(landmarks):\n",
    "    landmarks = np.array([l - l.mean(axis=0) for l in landmarks])\n",
    "    fig = plt.figure(figsize=(6, 4))\n",
    "    gs = fig.add_gridspec(12, 1)\n",
    "    ax = fig.add_subplot(gs[:-2, :], projection=\"3d\")\n",
    "    ax_slider = fig.add_subplot(gs[-1, :])\n",
    "    slider = Slider(ax_slider, \"index\", 0, len(landmarks), valinit=0, valstep=1)\n",
    "\n",
    "    scatters = [ax.scatter3D(*landmarks[idx, :, :].T) for idx in range(len(landmarks))]\n",
    "    for s in scatters:\n",
    "        s.set_visible(False)\n",
    "\n",
    "    def update(v):\n",
    "        for s in [s for s in scatters if s.get_visible()]:\n",
    "            s.set_visible(False)\n",
    "        idx = int(slider.val)\n",
    "        scatters[idx].set_visible(True)\n",
    "\n",
    "    slider.on_changed(update)\n",
    "    update(None)\n",
    "\n",
    "    ax.set(xlim=(-0.2, 0.2), ylim=(-0.4, 0.4), zlim=(0, 1), xlabel=\"x\", ylabel=\"y\", zlabel=\"z\")\n",
    "    ax.view_init(elev=95, azim=90)\n",
    "    fig.tight_layout()\n",
    "\n",
    "\n",
    "# plot_landmarks(rock)\n",
    "# plot_landmarks(paper)\n",
    "plot_landmarks(scissors)\n",
    "# plot_landmarks(nothing)"
   ]
  },
  {
   "cell_type": "code",
   "execution_count": 4,
   "metadata": {},
   "outputs": [
    {
     "data": {
      "text/plain": [
       "(288, 21, 3)"
      ]
     },
     "execution_count": 4,
     "metadata": {},
     "output_type": "execute_result"
    }
   ],
   "source": [
    "hands = np.array([h - h.mean(axis=0) for h in np.concatenate([rock, scissors, paper])])\n",
    "labels = np.array([0] * len(rock) + [1] * len(scissors) + [2] * len(paper))\n",
    "\n",
    "hands_train, hands_test, labels_train, labels_test = train_test_split(hands, labels)\n",
    "\n",
    "hands_train.shape"
   ]
  },
  {
   "cell_type": "code",
   "execution_count": 5,
   "metadata": {},
   "outputs": [
    {
     "name": "stdout",
     "output_type": "stream",
     "text": [
      "4/4 [==============================] - 0s 1ms/step - loss: 0.0013 - accuracy: 1.0000\n"
     ]
    },
    {
     "data": {
      "text/plain": [
       "[0.0013498348416760564, 1.0]"
      ]
     },
     "execution_count": 5,
     "metadata": {},
     "output_type": "execute_result"
    }
   ],
   "source": [
    "model = tf.keras.models.Sequential(\n",
    "    [\n",
    "        tf.keras.layers.Flatten(input_shape=(21, 3)),\n",
    "        tf.keras.layers.Dense(128, activation=\"relu\"),\n",
    "        tf.keras.layers.Dropout(0.2),\n",
    "        tf.keras.layers.Dense(3, activation=\"softmax\"),\n",
    "    ]\n",
    ")\n",
    "model.compile(\n",
    "    optimizer=\"adam\", loss=\"sparse_categorical_crossentropy\", metrics=[\"accuracy\"]\n",
    ")\n",
    "model.fit(hands_train, labels_train, epochs=100, verbose=0)\n",
    "model.evaluate(hands_test, labels_test)\n",
    "# model.save(\"janken_tf\")"
   ]
  },
  {
   "cell_type": "code",
   "execution_count": 6,
   "metadata": {},
   "outputs": [
    {
     "data": {
      "text/plain": [
       "array([[9.9766672e-01, 2.0674628e-03, 2.6578931e-04],\n",
       "       [9.9650276e-01, 3.1612483e-03, 3.3592698e-04],\n",
       "       [9.9632698e-01, 3.2864322e-03, 3.8660906e-04],\n",
       "       [9.9656653e-01, 3.1006634e-03, 3.3272940e-04],\n",
       "       [9.9772877e-01, 2.0603242e-03, 2.1093250e-04]], dtype=float32)"
      ]
     },
     "execution_count": 6,
     "metadata": {},
     "output_type": "execute_result"
    }
   ],
   "source": [
    "hands = np.array([h - h.mean(axis=0) for h in rock])\n",
    "\n",
    "model = tf.keras.models.load_model(\"janken_tf\")\n",
    "model.predict(hands[:5])"
   ]
  },
  {
   "cell_type": "code",
   "execution_count": null,
   "metadata": {},
   "outputs": [],
   "source": []
  }
 ],
 "metadata": {
  "kernelspec": {
   "display_name": "Python 3",
   "language": "python",
   "name": "python3"
  },
  "language_info": {
   "codemirror_mode": {
    "name": "ipython",
    "version": 3
   },
   "file_extension": ".py",
   "mimetype": "text/x-python",
   "name": "python",
   "nbconvert_exporter": "python",
   "pygments_lexer": "ipython3",
   "version": "3.8.0"
  }
 },
 "nbformat": 4,
 "nbformat_minor": 4
}
