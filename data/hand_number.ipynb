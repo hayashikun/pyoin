{
 "cells": [
  {
   "cell_type": "code",
   "execution_count": 1,
   "metadata": {},
   "outputs": [],
   "source": [
    "%matplotlib widget\n",
    "import matplotlib.pyplot as plt\n",
    "import numpy as np\n",
    "from matplotlib.widgets import Slider\n",
    "from mpl_toolkits.mplot3d import Axes3D\n",
    "import tensorflow as tf\n",
    "from sklearn.model_selection import train_test_split"
   ]
  },
  {
   "cell_type": "code",
   "execution_count": 18,
   "metadata": {},
   "outputs": [
    {
     "name": "stdout",
     "output_type": "stream",
     "text": [
      "0 (192, 21, 3)\n",
      "1 (299, 21, 3)\n",
      "2 (276, 21, 3)\n",
      "3 (218, 21, 3)\n",
      "4 (217, 21, 3)\n",
      "5 (256, 21, 3)\n"
     ]
    }
   ],
   "source": [
    "hand_numbers =[np.load(f\"hand_number/{n}.npy\") for n in range(6)]\n",
    "\n",
    "for i, n in enumerate(hand_numbers):\n",
    "    print(i, n.shape)"
   ]
  },
  {
   "cell_type": "code",
   "execution_count": 19,
   "metadata": {},
   "outputs": [
    {
     "data": {
      "application/vnd.jupyter.widget-view+json": {
       "model_id": "",
       "version_major": 2,
       "version_minor": 0
      },
      "text/plain": [
       "Canvas(toolbar=Toolbar(toolitems=[('Home', 'Reset original view', 'home', 'home'), ('Back', 'Back to previous …"
      ]
     },
     "metadata": {},
     "output_type": "display_data"
    }
   ],
   "source": [
    "def plot_landmarks(landmarks):\n",
    "    landmarks = np.array([l - l.mean(axis=0) for l in landmarks])\n",
    "    fig = plt.figure(figsize=(6, 4))\n",
    "    gs = fig.add_gridspec(12, 1)\n",
    "    ax = fig.add_subplot(gs[:-2, :], projection=\"3d\")\n",
    "    ax_slider = fig.add_subplot(gs[-1, :])\n",
    "    slider = Slider(ax_slider, \"index\", 0, len(landmarks), valinit=0, valstep=1)\n",
    "\n",
    "    scatters = [ax.scatter3D(*landmarks[idx, :, :].T) for idx in range(len(landmarks))]\n",
    "\n",
    "    def update(v):\n",
    "        for s in [s for s in scatters if s.get_visible()]:\n",
    "            s.set_visible(False)\n",
    "        idx = int(slider.val)\n",
    "        scatters[idx].set_visible(True)\n",
    "\n",
    "    slider.on_changed(update)\n",
    "    update(None)\n",
    "\n",
    "    ax.set(xlim=(-0.2, 0.2), ylim=(-0.4, 0.4), zlim=(0, 1), xlabel=\"x\", ylabel=\"y\", zlabel=\"z\")\n",
    "    ax.view_init(elev=95, azim=90)\n",
    "    fig.tight_layout()\n",
    "\n",
    "\n",
    "plot_landmarks(hand_numbers[4])"
   ]
  },
  {
   "cell_type": "code",
   "execution_count": 32,
   "metadata": {},
   "outputs": [],
   "source": [
    "hands = np.array([h - h.mean(axis=0) for h in np.concatenate(hand_numbers)])\n",
    "labels = np.concatenate([np.array([i] * len(hn)) for i, hn in enumerate(hand_numbers)])\n",
    "hands_train, hands_test, labels_train, labels_test = train_test_split(hands, labels)"
   ]
  },
  {
   "cell_type": "code",
   "execution_count": 34,
   "metadata": {},
   "outputs": [
    {
     "name": "stdout",
     "output_type": "stream",
     "text": [
      "12/12 [==============================] - 0s 673us/step - loss: 0.0018 - accuracy: 1.0000\n",
      "WARNING:tensorflow:From /Users/ryosuke/.local/share/virtualenvs/pyoin-T2nEg0Dn/lib/python3.8/site-packages/tensorflow/python/training/tracking/tracking.py:111: Model.state_updates (from tensorflow.python.keras.engine.training) is deprecated and will be removed in a future version.\n",
      "Instructions for updating:\n",
      "This property should not be used in TensorFlow 2.0, as updates are applied automatically.\n",
      "WARNING:tensorflow:From /Users/ryosuke/.local/share/virtualenvs/pyoin-T2nEg0Dn/lib/python3.8/site-packages/tensorflow/python/training/tracking/tracking.py:111: Layer.updates (from tensorflow.python.keras.engine.base_layer) is deprecated and will be removed in a future version.\n",
      "Instructions for updating:\n",
      "This property should not be used in TensorFlow 2.0, as updates are applied automatically.\n",
      "INFO:tensorflow:Assets written to: hand_number_tf/assets\n"
     ]
    }
   ],
   "source": [
    "model = tf.keras.models.Sequential(\n",
    "    [\n",
    "        tf.keras.layers.Flatten(input_shape=(21, 3)),\n",
    "        tf.keras.layers.Dense(128, activation=\"relu\"),\n",
    "        tf.keras.layers.Dropout(0.2),\n",
    "        tf.keras.layers.Dense(6, activation=\"softmax\"),\n",
    "    ]\n",
    ")\n",
    "model.compile(\n",
    "    optimizer=\"adam\", loss=\"sparse_categorical_crossentropy\", metrics=[\"accuracy\"]\n",
    ")\n",
    "model.fit(hands_train, labels_train, epochs=100, verbose=0)\n",
    "model.evaluate(hands_test, labels_test)\n",
    "# model.save(\"hand_number_tf\")"
   ]
  },
  {
   "cell_type": "code",
   "execution_count": 35,
   "metadata": {},
   "outputs": [
    {
     "data": {
      "text/plain": [
       "array([[9.8399778e-07, 1.4406377e-05, 1.9207293e-06, 3.9314933e-04,\n",
       "        9.9820483e-01, 1.3847689e-03],\n",
       "       [9.2800275e-07, 1.6252890e-05, 2.0983807e-06, 4.2220645e-04,\n",
       "        9.9817061e-01, 1.3879142e-03],\n",
       "       [8.8103172e-07, 1.4851270e-05, 1.8270048e-06, 4.1037909e-04,\n",
       "        9.9828941e-01, 1.2826866e-03],\n",
       "       [8.5274723e-07, 4.8068628e-06, 1.0395759e-06, 2.1585671e-04,\n",
       "        9.9939108e-01, 3.8635448e-04],\n",
       "       [1.4358204e-06, 6.6426583e-05, 3.7379873e-06, 9.5878867e-04,\n",
       "        9.9247086e-01, 6.4987936e-03]], dtype=float32)"
      ]
     },
     "execution_count": 35,
     "metadata": {},
     "output_type": "execute_result"
    }
   ],
   "source": [
    "hands = np.array([h - h.mean(axis=0) for h in hand_numbers[4]])\n",
    "\n",
    "model = tf.keras.models.load_model(\"hand_number_tf\")\n",
    "model.predict(hands[:5])"
   ]
  },
  {
   "cell_type": "code",
   "execution_count": null,
   "metadata": {},
   "outputs": [],
   "source": []
  }
 ],
 "metadata": {
  "kernelspec": {
   "display_name": "Python 3",
   "language": "python",
   "name": "python3"
  },
  "language_info": {
   "codemirror_mode": {
    "name": "ipython",
    "version": 3
   },
   "file_extension": ".py",
   "mimetype": "text/x-python",
   "name": "python",
   "nbconvert_exporter": "python",
   "pygments_lexer": "ipython3",
   "version": "3.8.0"
  }
 },
 "nbformat": 4,
 "nbformat_minor": 4
}
