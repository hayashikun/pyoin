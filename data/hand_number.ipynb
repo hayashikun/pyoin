{
 "cells": [
  {
   "cell_type": "code",
   "execution_count": 1,
   "metadata": {},
   "outputs": [],
   "source": [
    "%matplotlib widget\n",
    "import matplotlib.pyplot as plt\n",
    "import numpy as np\n",
    "from matplotlib.widgets import Slider\n",
    "from mpl_toolkits.mplot3d import Axes3D\n",
    "import tensorflow as tf\n",
    "from sklearn.model_selection import train_test_split"
   ]
  },
  {
   "cell_type": "code",
   "execution_count": 2,
   "metadata": {},
   "outputs": [
    {
     "name": "stdout",
     "output_type": "stream",
     "text": [
      "0 (192, 21, 3)\n",
      "1 (299, 21, 3)\n",
      "2 (276, 21, 3)\n",
      "3 (218, 21, 3)\n",
      "4 (217, 21, 3)\n",
      "5 (256, 21, 3)\n"
     ]
    }
   ],
   "source": [
    "hand_numbers =[np.load(f\"hand_number/{n}.npy\") for n in range(6)]\n",
    "\n",
    "for i, n in enumerate(hand_numbers):\n",
    "    print(i, n.shape)"
   ]
  },
  {
   "cell_type": "code",
   "execution_count": 3,
   "metadata": {},
   "outputs": [
    {
     "data": {
      "application/vnd.jupyter.widget-view+json": {
       "model_id": "afe3b2a4b31b4f84af83f117a4b14a47",
       "version_major": 2,
       "version_minor": 0
      },
      "text/plain": [
       "Canvas(toolbar=Toolbar(toolitems=[('Home', 'Reset original view', 'home', 'home'), ('Back', 'Back to previous …"
      ]
     },
     "metadata": {},
     "output_type": "display_data"
    }
   ],
   "source": [
    "def plot_landmarks(landmarks):\n",
    "    landmarks = np.array([l - l.mean(axis=0) for l in landmarks])\n",
    "    fig = plt.figure(figsize=(6, 4))\n",
    "    gs = fig.add_gridspec(12, 1)\n",
    "    ax = fig.add_subplot(gs[:-2, :], projection=\"3d\")\n",
    "    ax_slider = fig.add_subplot(gs[-1, :])\n",
    "    slider = Slider(ax_slider, \"index\", 0, len(landmarks), valinit=0, valstep=1)\n",
    "\n",
    "    scatters = [ax.scatter3D(*landmarks[idx, :, :].T) for idx in range(len(landmarks))]\n",
    "\n",
    "    def update(v):\n",
    "        for s in [s for s in scatters if s.get_visible()]:\n",
    "            s.set_visible(False)\n",
    "        idx = int(slider.val)\n",
    "        scatters[idx].set_visible(True)\n",
    "\n",
    "    slider.on_changed(update)\n",
    "    update(None)\n",
    "\n",
    "    ax.set(xlim=(-0.2, 0.2), ylim=(-0.4, 0.4), zlim=(0, 1), xlabel=\"x\", ylabel=\"y\", zlabel=\"z\")\n",
    "    ax.view_init(elev=95, azim=90)\n",
    "    fig.tight_layout()\n",
    "\n",
    "\n",
    "plot_landmarks(hand_numbers[4])"
   ]
  },
  {
   "cell_type": "code",
   "execution_count": 4,
   "metadata": {},
   "outputs": [],
   "source": [
    "hands = np.array([h - h.mean(axis=0) for h in np.concatenate(hand_numbers)])\n",
    "hands = np.repeat(hands, 2, axis=0)\n",
    "hands[: hands.shape[0] // 2, 0] = -hands[: hands.shape[0] // 2, 0]\n",
    "\n",
    "labels = np.concatenate([np.array([i] * len(hn)) for i, hn in enumerate(hand_numbers)])\n",
    "labels = np.repeat(labels, 2, axis=0)\n",
    "\n",
    "hands_train, hands_test, labels_train, labels_test = train_test_split(hands, labels)"
   ]
  },
  {
   "cell_type": "code",
   "execution_count": 5,
   "metadata": {},
   "outputs": [
    {
     "name": "stdout",
     "output_type": "stream",
     "text": [
      "23/23 [==============================] - 0s 757us/step - loss: 7.5735e-05 - accuracy: 1.0000\n"
     ]
    },
    {
     "data": {
      "text/plain": [
       "[7.573469338240102e-05, 1.0]"
      ]
     },
     "execution_count": 5,
     "metadata": {},
     "output_type": "execute_result"
    }
   ],
   "source": [
    "model = tf.keras.models.Sequential(\n",
    "    [\n",
    "        tf.keras.layers.Flatten(input_shape=(21, 3)),\n",
    "        tf.keras.layers.Dense(128, activation=\"relu\"),\n",
    "        tf.keras.layers.Dropout(0.2),\n",
    "        tf.keras.layers.Dense(6, activation=\"softmax\"),\n",
    "    ]\n",
    ")\n",
    "model.compile(\n",
    "    optimizer=\"adam\", loss=\"sparse_categorical_crossentropy\", metrics=[\"accuracy\"]\n",
    ")\n",
    "model.fit(hands_train, labels_train, epochs=100, verbose=0)\n",
    "model.evaluate(hands_test, labels_test)\n",
    "# model.save(\"hand_number_tf\")"
   ]
  },
  {
   "cell_type": "code",
   "execution_count": 6,
   "metadata": {},
   "outputs": [
    {
     "data": {
      "text/plain": [
       "array([[5.29633830e-08, 3.54650069e-08, 2.40578771e-07, 2.87810490e-05,\n",
       "        9.99810159e-01, 1.60769399e-04],\n",
       "       [5.20265502e-08, 3.42807027e-08, 2.37439323e-07, 2.90436074e-05,\n",
       "        9.99831557e-01, 1.39103606e-04],\n",
       "       [4.96563501e-08, 3.47361393e-08, 2.14438828e-07, 2.86362847e-05,\n",
       "        9.99838352e-01, 1.32672591e-04],\n",
       "       [4.54526976e-08, 1.21419541e-08, 1.16260729e-07, 1.48063955e-05,\n",
       "        9.99948144e-01, 3.68229921e-05],\n",
       "       [8.18675332e-08, 2.57151669e-07, 5.91875164e-07, 9.48774323e-05,\n",
       "        9.98648107e-01, 1.25602540e-03]], dtype=float32)"
      ]
     },
     "execution_count": 6,
     "metadata": {},
     "output_type": "execute_result"
    }
   ],
   "source": [
    "hands = np.array([h - h.mean(axis=0) for h in hand_numbers[4]])\n",
    "\n",
    "model = tf.keras.models.load_model(\"hand_number_tf\")\n",
    "model.predict(hands[:5])"
   ]
  },
  {
   "cell_type": "code",
   "execution_count": null,
   "metadata": {},
   "outputs": [],
   "source": []
  }
 ],
 "metadata": {
  "kernelspec": {
   "display_name": "Python 3",
   "language": "python",
   "name": "python3"
  },
  "language_info": {
   "codemirror_mode": {
    "name": "ipython",
    "version": 3
   },
   "file_extension": ".py",
   "mimetype": "text/x-python",
   "name": "python",
   "nbconvert_exporter": "python",
   "pygments_lexer": "ipython3",
   "version": "3.8.0"
  }
 },
 "nbformat": 4,
 "nbformat_minor": 4
}
